{
 "cells": [
  {
   "cell_type": "markdown",
   "id": "a7f389b3",
   "metadata": {},
   "source": [
    "#        Facorial number"
   ]
  },
  {
   "cell_type": "code",
   "execution_count": null,
   "id": "c365415a",
   "metadata": {},
   "outputs": [],
   "source": [
    "i = int(input('Enter a number'))\n",
    "fac=1\n",
    "while i>0:\n",
    "    fac= fac*i\n",
    "    i = i-1\n",
    "    print('factorial=',fac)   "
   ]
  },
  {
   "cell_type": "markdown",
   "id": "80c0552b",
   "metadata": {},
   "source": [
    "# Prime or composite number"
   ]
  },
  {
   "cell_type": "code",
   "execution_count": null,
   "id": "711ad3a2",
   "metadata": {},
   "outputs": [],
   "source": [
    "number = int(input('Enter a natural number'))\n",
    "if number <1:\n",
    "    print('number should be greater than 1')\n",
    "elif number ==1:\n",
    "    print(number,'is not prime nor composite number')\n",
    "else:\n",
    "    for divisor in range(2,(number//2)+1):\n",
    "        if(number % divisor)==0:\n",
    "            print(number,'is a composite number')\n",
    "            break\n",
    "    else:\n",
    "        print(number,'is a prime number')\n",
    "      \n"
   ]
  },
  {
   "cell_type": "markdown",
   "id": "5f6a6f59",
   "metadata": {},
   "source": [
    "# palindrome "
   ]
  },
  {
   "cell_type": "code",
   "execution_count": null,
   "id": "b2744388",
   "metadata": {},
   "outputs": [],
   "source": [
    "n= int(input('enter a number:'))\n",
    "temp=n\n",
    "sum=0\n",
    "\n",
    "while n>0:\n",
    "    r=n%10\n",
    "    sum=sum*10+r\n",
    "    n=n//10\n",
    "if temp==sum:\n",
    "    print('palindrome number')\n",
    "else:\n",
    "    print('not palindrome')\n",
    "    "
   ]
  },
  {
   "cell_type": "code",
   "execution_count": null,
   "id": "51ef74a8",
   "metadata": {},
   "outputs": [],
   "source": [
    "import math"
   ]
  },
  {
   "cell_type": "code",
   "execution_count": null,
   "id": "8a3fa1dd",
   "metadata": {},
   "outputs": [],
   "source": [
    "a = float(input('enter first shoreter side of right angled triangle :'))\n",
    "b = float(input('enter second shoreter side of right angled triangle :'))\n",
    "\n",
    "c= math.sqrt(a ** 2 + b ** 2)\n",
    "print('Hypotenuse of a right angled triangle is :', c)"
   ]
  },
  {
   "cell_type": "markdown",
   "id": "d02380e1",
   "metadata": {},
   "source": [
    "# frequency count"
   ]
  },
  {
   "cell_type": "code",
   "execution_count": null,
   "id": "72b29495",
   "metadata": {},
   "outputs": [],
   "source": [
    "str = input('enter string')\n",
    "print(str)\n",
    "l=list(str)\n",
    "print(l)\n",
    "freq = [l.count(ele) for ele in l]\n",
    "print(freq)"
   ]
  },
  {
   "cell_type": "code",
   "execution_count": null,
   "id": "dc390fe6",
   "metadata": {},
   "outputs": [],
   "source": []
  },
  {
   "cell_type": "code",
   "execution_count": null,
   "id": "8e523682",
   "metadata": {},
   "outputs": [],
   "source": []
  },
  {
   "cell_type": "code",
   "execution_count": null,
   "id": "d83e1976",
   "metadata": {},
   "outputs": [],
   "source": []
  },
  {
   "cell_type": "code",
   "execution_count": null,
   "id": "dbea2493",
   "metadata": {},
   "outputs": [],
   "source": []
  },
  {
   "cell_type": "code",
   "execution_count": null,
   "id": "1f1ae22f",
   "metadata": {},
   "outputs": [],
   "source": []
  },
  {
   "cell_type": "code",
   "execution_count": null,
   "id": "d835db2a",
   "metadata": {},
   "outputs": [],
   "source": []
  },
  {
   "cell_type": "code",
   "execution_count": null,
   "id": "9e43b727",
   "metadata": {},
   "outputs": [],
   "source": []
  },
  {
   "cell_type": "code",
   "execution_count": null,
   "id": "a0b18e85",
   "metadata": {},
   "outputs": [],
   "source": []
  },
  {
   "cell_type": "code",
   "execution_count": null,
   "id": "d8dae510",
   "metadata": {},
   "outputs": [],
   "source": []
  },
  {
   "cell_type": "code",
   "execution_count": null,
   "id": "0e7ba0f1",
   "metadata": {},
   "outputs": [],
   "source": []
  },
  {
   "cell_type": "code",
   "execution_count": null,
   "id": "5b42c355",
   "metadata": {},
   "outputs": [],
   "source": []
  },
  {
   "cell_type": "code",
   "execution_count": null,
   "id": "78d0d537",
   "metadata": {},
   "outputs": [],
   "source": []
  }
 ],
 "metadata": {
  "kernelspec": {
   "display_name": "Python 3 (ipykernel)",
   "language": "python",
   "name": "python3"
  },
  "language_info": {
   "codemirror_mode": {
    "name": "ipython",
    "version": 3
   },
   "file_extension": ".py",
   "mimetype": "text/x-python",
   "name": "python",
   "nbconvert_exporter": "python",
   "pygments_lexer": "ipython3",
   "version": "3.11.3"
  }
 },
 "nbformat": 4,
 "nbformat_minor": 5
}
